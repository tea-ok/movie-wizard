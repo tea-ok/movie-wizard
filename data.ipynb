{
 "cells": [
  {
   "cell_type": "markdown",
   "metadata": {},
   "source": [
    "## Data cleaning and preparation"
   ]
  },
  {
   "cell_type": "markdown",
   "metadata": {},
   "source": [
    "`data.tsv` downloaded from the official IMDB Developer website (https://developer.imdb.com/non-commercial-datasets/). It contains over 10,000,000 rows of data, each row representing a title, including movies, TV-shows, TV-Show episodes and videogames, and more.\n",
    "\n",
    "In this notebook, I will clean the data and remove unnecessary columns, preparing it for insertion into the database."
   ]
  },
  {
   "cell_type": "code",
   "execution_count": 1,
   "metadata": {},
   "outputs": [
    {
     "name": "stderr",
     "output_type": "stream",
     "text": [
      "/var/folders/j4/l52yqm311px4czkrv1_6txsc0000gn/T/ipykernel_22367/2428849113.py:4: DtypeWarning: Columns (4) have mixed types. Specify dtype option on import or set low_memory=False.\n",
      "  df = pd.read_csv('data.tsv', sep='\\t')\n"
     ]
    },
    {
     "data": {
      "text/html": [
       "<div>\n",
       "<style scoped>\n",
       "    .dataframe tbody tr th:only-of-type {\n",
       "        vertical-align: middle;\n",
       "    }\n",
       "\n",
       "    .dataframe tbody tr th {\n",
       "        vertical-align: top;\n",
       "    }\n",
       "\n",
       "    .dataframe thead th {\n",
       "        text-align: right;\n",
       "    }\n",
       "</style>\n",
       "<table border=\"1\" class=\"dataframe\">\n",
       "  <thead>\n",
       "    <tr style=\"text-align: right;\">\n",
       "      <th></th>\n",
       "      <th>tconst</th>\n",
       "      <th>titleType</th>\n",
       "      <th>primaryTitle</th>\n",
       "      <th>originalTitle</th>\n",
       "      <th>isAdult</th>\n",
       "      <th>startYear</th>\n",
       "      <th>endYear</th>\n",
       "      <th>runtimeMinutes</th>\n",
       "      <th>genres</th>\n",
       "    </tr>\n",
       "  </thead>\n",
       "  <tbody>\n",
       "    <tr>\n",
       "      <th>0</th>\n",
       "      <td>tt0000001</td>\n",
       "      <td>short</td>\n",
       "      <td>Carmencita</td>\n",
       "      <td>Carmencita</td>\n",
       "      <td>0</td>\n",
       "      <td>1894</td>\n",
       "      <td>\\N</td>\n",
       "      <td>1</td>\n",
       "      <td>Documentary,Short</td>\n",
       "    </tr>\n",
       "    <tr>\n",
       "      <th>1</th>\n",
       "      <td>tt0000002</td>\n",
       "      <td>short</td>\n",
       "      <td>Le clown et ses chiens</td>\n",
       "      <td>Le clown et ses chiens</td>\n",
       "      <td>0</td>\n",
       "      <td>1892</td>\n",
       "      <td>\\N</td>\n",
       "      <td>5</td>\n",
       "      <td>Animation,Short</td>\n",
       "    </tr>\n",
       "    <tr>\n",
       "      <th>2</th>\n",
       "      <td>tt0000003</td>\n",
       "      <td>short</td>\n",
       "      <td>Pauvre Pierrot</td>\n",
       "      <td>Pauvre Pierrot</td>\n",
       "      <td>0</td>\n",
       "      <td>1892</td>\n",
       "      <td>\\N</td>\n",
       "      <td>4</td>\n",
       "      <td>Animation,Comedy,Romance</td>\n",
       "    </tr>\n",
       "    <tr>\n",
       "      <th>3</th>\n",
       "      <td>tt0000004</td>\n",
       "      <td>short</td>\n",
       "      <td>Un bon bock</td>\n",
       "      <td>Un bon bock</td>\n",
       "      <td>0</td>\n",
       "      <td>1892</td>\n",
       "      <td>\\N</td>\n",
       "      <td>12</td>\n",
       "      <td>Animation,Short</td>\n",
       "    </tr>\n",
       "    <tr>\n",
       "      <th>4</th>\n",
       "      <td>tt0000005</td>\n",
       "      <td>short</td>\n",
       "      <td>Blacksmith Scene</td>\n",
       "      <td>Blacksmith Scene</td>\n",
       "      <td>0</td>\n",
       "      <td>1893</td>\n",
       "      <td>\\N</td>\n",
       "      <td>1</td>\n",
       "      <td>Comedy,Short</td>\n",
       "    </tr>\n",
       "  </tbody>\n",
       "</table>\n",
       "</div>"
      ],
      "text/plain": [
       "      tconst titleType            primaryTitle           originalTitle  \\\n",
       "0  tt0000001     short              Carmencita              Carmencita   \n",
       "1  tt0000002     short  Le clown et ses chiens  Le clown et ses chiens   \n",
       "2  tt0000003     short          Pauvre Pierrot          Pauvre Pierrot   \n",
       "3  tt0000004     short             Un bon bock             Un bon bock   \n",
       "4  tt0000005     short        Blacksmith Scene        Blacksmith Scene   \n",
       "\n",
       "  isAdult startYear endYear runtimeMinutes                    genres  \n",
       "0       0      1894      \\N              1         Documentary,Short  \n",
       "1       0      1892      \\N              5           Animation,Short  \n",
       "2       0      1892      \\N              4  Animation,Comedy,Romance  \n",
       "3       0      1892      \\N             12           Animation,Short  \n",
       "4       0      1893      \\N              1              Comedy,Short  "
      ]
     },
     "execution_count": 1,
     "metadata": {},
     "output_type": "execute_result"
    }
   ],
   "source": [
    "import pandas as pd\n",
    "import numpy as np\n",
    "\n",
    "df = pd.read_csv('data.tsv', sep='\\t')\n",
    "df.head()"
   ]
  },
  {
   "cell_type": "code",
   "execution_count": 2,
   "metadata": {},
   "outputs": [
    {
     "name": "stdout",
     "output_type": "stream",
     "text": [
      "Titles in dataset: 10,384,671\n"
     ]
    }
   ],
   "source": [
    "print(\"Titles in dataset: {:,}\".format(df.shape[0]))"
   ]
  },
  {
   "cell_type": "markdown",
   "metadata": {},
   "source": [
    "Getting unique values from the `titleType` and `genres` columns, to see what kind of titles are included in the dataset. This will be useful in testing the API as well as implementing the drop-down menus in the frontend."
   ]
  },
  {
   "cell_type": "code",
   "execution_count": 3,
   "metadata": {},
   "outputs": [
    {
     "data": {
      "text/plain": [
       "array(['short', 'movie', 'tvShort', 'tvMovie', 'tvSeries', 'tvEpisode',\n",
       "       'tvMiniSeries', 'tvSpecial', 'video', 'videoGame', 'tvPilot'],\n",
       "      dtype=object)"
      ]
     },
     "execution_count": 3,
     "metadata": {},
     "output_type": "execute_result"
    }
   ],
   "source": [
    "df.titleType.unique()"
   ]
  },
  {
   "cell_type": "code",
   "execution_count": 4,
   "metadata": {},
   "outputs": [
    {
     "data": {
      "text/plain": [
       "array(['Documentary', 'Short', 'Animation', 'Comedy', 'Romance', 'Sport',\n",
       "       'News', 'Drama', 'Fantasy', 'Horror', 'Biography', 'Music', 'War',\n",
       "       'Crime', 'Western', 'Family', 'Adventure', 'Action', 'History',\n",
       "       'Mystery', '\\\\N', 'Sci-Fi', 'Musical', 'Thriller', 'Film-Noir',\n",
       "       'Talk-Show', 'Game-Show', 'Reality-TV', 'Adult', nan], dtype=object)"
      ]
     },
     "execution_count": 4,
     "metadata": {},
     "output_type": "execute_result"
    }
   ],
   "source": [
    "df['genres'].str.split(',').explode().unique()"
   ]
  },
  {
   "cell_type": "markdown",
   "metadata": {},
   "source": [
    "Dropping unnecessary columns, and including only movies, TV-shows, TV movies, TV episodes, TV mini-series and TV specials:"
   ]
  },
  {
   "cell_type": "code",
   "execution_count": 5,
   "metadata": {},
   "outputs": [
    {
     "name": "stdout",
     "output_type": "stream",
     "text": [
      "Titles after filtering: 9,088,256\n"
     ]
    }
   ],
   "source": [
    "df = df.drop(columns=['tconst'])\n",
    "df = df.drop(columns=['endYear'])\n",
    "df = df[df.titleType.isin(['movie', 'tvMovie', 'tvSeries', 'tvEpisode', 'tvMiniSeries', 'tvSpecial'])]\n",
    "\n",
    "print(\"Titles after filtering: {:,}\".format(df.shape[0]))"
   ]
  },
  {
   "cell_type": "markdown",
   "metadata": {},
   "source": [
    "Dropping rows with missing/incorrect values:"
   ]
  },
  {
   "cell_type": "code",
   "execution_count": 6,
   "metadata": {},
   "outputs": [
    {
     "name": "stdout",
     "output_type": "stream",
     "text": [
      "Unique non-numeric values in runtimeMinutes: ['\\\\N' 'Reality-TV' 'Talk-Show' 'Documentary' 'Game-Show,Short'\n",
      " 'Animation,Comedy,Family' 'News,Talk-Show' 'Comedy,News,Talk-Show'\n",
      " 'Documentary,Reality-TV' 'Adult' 'Game-Show,Reality-TV']\n",
      "Unique non-numeric values in startYear: ['\\\\N']\n"
     ]
    }
   ],
   "source": [
    "# finding out how missing values are represented in integer columns\n",
    "nan_runtime_minutes = df[~df.runtimeMinutes.str.isnumeric()].runtimeMinutes.unique()\n",
    "nan_start_years = df[~df.startYear.str.isnumeric()].startYear.unique()\n",
    "\n",
    "print(\"Unique non-numeric values in runtimeMinutes: {}\".format(nan_runtime_minutes))\n",
    "print(\"Unique non-numeric values in startYear: {}\".format(nan_start_years))"
   ]
  },
  {
   "cell_type": "code",
   "execution_count": 7,
   "metadata": {},
   "outputs": [
    {
     "name": "stdout",
     "output_type": "stream",
     "text": [
      "Titles after dropping non-numeric runtimeMinutes: 2,298,462\n"
     ]
    }
   ],
   "source": [
    "# removing all rows where runtimeMinutes is not numeric\n",
    "df = df[df.runtimeMinutes.str.isnumeric()]\n",
    "print(\"Titles after dropping non-numeric runtimeMinutes: {:,}\".format(df.shape[0]))"
   ]
  },
  {
   "cell_type": "code",
   "execution_count": 8,
   "metadata": {},
   "outputs": [
    {
     "name": "stdout",
     "output_type": "stream",
     "text": [
      "Titles after dropping missing values: 2,037,287\n"
     ]
    }
   ],
   "source": [
    "# dealing with the rest, \\\\N is used to represent missing values in this dataset\n",
    "df = df.replace('\\\\N', np.nan).dropna()\n",
    "print(\"Titles after dropping missing values: {:,}\".format(df.shape[0]))"
   ]
  },
  {
   "cell_type": "code",
   "execution_count": 9,
   "metadata": {},
   "outputs": [
    {
     "data": {
      "text/html": [
       "<div>\n",
       "<style scoped>\n",
       "    .dataframe tbody tr th:only-of-type {\n",
       "        vertical-align: middle;\n",
       "    }\n",
       "\n",
       "    .dataframe tbody tr th {\n",
       "        vertical-align: top;\n",
       "    }\n",
       "\n",
       "    .dataframe thead th {\n",
       "        text-align: right;\n",
       "    }\n",
       "</style>\n",
       "<table border=\"1\" class=\"dataframe\">\n",
       "  <thead>\n",
       "    <tr style=\"text-align: right;\">\n",
       "      <th></th>\n",
       "      <th>titleType</th>\n",
       "      <th>primaryTitle</th>\n",
       "      <th>originalTitle</th>\n",
       "      <th>isAdult</th>\n",
       "      <th>startYear</th>\n",
       "      <th>runtimeMinutes</th>\n",
       "      <th>genres</th>\n",
       "    </tr>\n",
       "  </thead>\n",
       "  <tbody>\n",
       "    <tr>\n",
       "      <th>0</th>\n",
       "      <td>movie</td>\n",
       "      <td>Miss Jerry</td>\n",
       "      <td>Miss Jerry</td>\n",
       "      <td>0</td>\n",
       "      <td>1894</td>\n",
       "      <td>45</td>\n",
       "      <td>Romance</td>\n",
       "    </tr>\n",
       "    <tr>\n",
       "      <th>1</th>\n",
       "      <td>movie</td>\n",
       "      <td>The Corbett-Fitzsimmons Fight</td>\n",
       "      <td>The Corbett-Fitzsimmons Fight</td>\n",
       "      <td>0</td>\n",
       "      <td>1897</td>\n",
       "      <td>100</td>\n",
       "      <td>Documentary,News,Sport</td>\n",
       "    </tr>\n",
       "    <tr>\n",
       "      <th>2</th>\n",
       "      <td>movie</td>\n",
       "      <td>The Story of the Kelly Gang</td>\n",
       "      <td>The Story of the Kelly Gang</td>\n",
       "      <td>0</td>\n",
       "      <td>1906</td>\n",
       "      <td>70</td>\n",
       "      <td>Action,Adventure,Biography</td>\n",
       "    </tr>\n",
       "    <tr>\n",
       "      <th>3</th>\n",
       "      <td>movie</td>\n",
       "      <td>The Prodigal Son</td>\n",
       "      <td>L'enfant prodigue</td>\n",
       "      <td>0</td>\n",
       "      <td>1907</td>\n",
       "      <td>90</td>\n",
       "      <td>Drama</td>\n",
       "    </tr>\n",
       "    <tr>\n",
       "      <th>4</th>\n",
       "      <td>movie</td>\n",
       "      <td>The Fairylogue and Radio-Plays</td>\n",
       "      <td>The Fairylogue and Radio-Plays</td>\n",
       "      <td>0</td>\n",
       "      <td>1908</td>\n",
       "      <td>120</td>\n",
       "      <td>Adventure,Fantasy</td>\n",
       "    </tr>\n",
       "  </tbody>\n",
       "</table>\n",
       "</div>"
      ],
      "text/plain": [
       "  titleType                    primaryTitle                   originalTitle  \\\n",
       "0     movie                      Miss Jerry                      Miss Jerry   \n",
       "1     movie   The Corbett-Fitzsimmons Fight   The Corbett-Fitzsimmons Fight   \n",
       "2     movie     The Story of the Kelly Gang     The Story of the Kelly Gang   \n",
       "3     movie                The Prodigal Son               L'enfant prodigue   \n",
       "4     movie  The Fairylogue and Radio-Plays  The Fairylogue and Radio-Plays   \n",
       "\n",
       "  isAdult startYear runtimeMinutes                      genres  \n",
       "0       0      1894             45                     Romance  \n",
       "1       0      1897            100      Documentary,News,Sport  \n",
       "2       0      1906             70  Action,Adventure,Biography  \n",
       "3       0      1907             90                       Drama  \n",
       "4       0      1908            120           Adventure,Fantasy  "
      ]
     },
     "execution_count": 9,
     "metadata": {},
     "output_type": "execute_result"
    }
   ],
   "source": [
    "df = df.reset_index(drop=True)\n",
    "df.head()"
   ]
  },
  {
   "cell_type": "markdown",
   "metadata": {},
   "source": [
    "Saving `.csv` to be used in a script to populate the database:"
   ]
  },
  {
   "cell_type": "code",
   "execution_count": 11,
   "metadata": {},
   "outputs": [],
   "source": [
    "df.to_csv('data.csv', index=False)"
   ]
  }
 ],
 "metadata": {
  "kernelspec": {
   "display_name": "movie-wizard",
   "language": "python",
   "name": "python3"
  },
  "language_info": {
   "codemirror_mode": {
    "name": "ipython",
    "version": 3
   },
   "file_extension": ".py",
   "mimetype": "text/x-python",
   "name": "python",
   "nbconvert_exporter": "python",
   "pygments_lexer": "ipython3",
   "version": "3.11.5"
  }
 },
 "nbformat": 4,
 "nbformat_minor": 2
}
